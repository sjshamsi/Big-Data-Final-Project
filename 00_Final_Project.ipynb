{
 "cells": [
  {
   "cell_type": "markdown",
   "metadata": {},
   "source": [
    "# Big Data\n",
    "## MASS Semester 3, University of Belgrade, Fall 2024\n",
    "### Final Project\n",
    "Shoaib Jamal Shamsi"
   ]
  },
  {
   "cell_type": "code",
   "execution_count": 1,
   "metadata": {},
   "outputs": [],
   "source": [
    "import os\n",
    "import pandas as pd\n",
    "from astroquery.sdss import SDSS\n",
    "from astroquery.gaia import Gaia"
   ]
  },
  {
   "cell_type": "markdown",
   "metadata": {},
   "source": [
    "### Find all QSO in SDSS DR18.\n",
    "\n",
    "We will do this by submitting an SQL Query"
   ]
  },
  {
   "cell_type": "code",
   "execution_count": 2,
   "metadata": {},
   "outputs": [
    {
     "ename": "NameError",
     "evalue": "name 'query1' is not defined",
     "output_type": "error",
     "traceback": [
      "\u001b[0;31m---------------------------------------------------------------------------\u001b[0m",
      "\u001b[0;31mNameError\u001b[0m                                 Traceback (most recent call last)",
      "Cell \u001b[0;32mIn[2], line 1\u001b[0m\n\u001b[0;32m----> 1\u001b[0m QSO_df \u001b[38;5;241m=\u001b[39m SDSS\u001b[38;5;241m.\u001b[39mquery_sql(\u001b[43mquery1\u001b[49m)\u001b[38;5;241m.\u001b[39mto_pandas()\n\u001b[1;32m      2\u001b[0m QSO_df\n",
      "\u001b[0;31mNameError\u001b[0m: name 'query1' is not defined"
     ]
    }
   ],
   "source": [
    "QSO_df = SDSS.query_sql(query1).to_pandas()\n",
    "QSO_df"
   ]
  },
  {
   "cell_type": "code",
   "execution_count": null,
   "metadata": {},
   "outputs": [],
   "source": [
    "query1 = \"\"\"\n",
    "SELECT COUNT(*)\n",
    "FROM SpecObj AS s\n",
    "WHERE\n",
    "s.Class = 'QSO'  \n",
    "AND s.z > 0 AND s.z < 1.1\n",
    "\"\"\"\n"
   ]
  }
 ],
 "metadata": {
  "kernelspec": {
   "display_name": "bigdata",
   "language": "python",
   "name": "python3"
  },
  "language_info": {
   "codemirror_mode": {
    "name": "ipython",
    "version": 3
   },
   "file_extension": ".py",
   "mimetype": "text/x-python",
   "name": "python",
   "nbconvert_exporter": "python",
   "pygments_lexer": "ipython3",
   "version": "3.12.8"
  }
 },
 "nbformat": 4,
 "nbformat_minor": 2
}
